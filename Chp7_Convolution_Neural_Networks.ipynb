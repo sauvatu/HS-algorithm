{
  "nbformat": 4,
  "nbformat_minor": 0,
  "metadata": {
    "colab": {
      "provenance": [],
      "authorship_tag": "ABX9TyNQaTlbLJHiF6IQF6qngnpQ",
      "include_colab_link": true
    },
    "kernelspec": {
      "name": "python3",
      "display_name": "Python 3"
    },
    "language_info": {
      "name": "python"
    }
  },
  "cells": [
    {
      "cell_type": "markdown",
      "metadata": {
        "id": "view-in-github",
        "colab_type": "text"
      },
      "source": [
        "<a href=\"https://colab.research.google.com/github/sauvatu/HS-algorithm/blob/master/Chp7_Convolution_Neural_Networks.ipynb\" target=\"_parent\"><img src=\"https://colab.research.google.com/assets/colab-badge.svg\" alt=\"Open In Colab\"/></a>"
      ]
    },
    {
      "cell_type": "markdown",
      "source": [
        "# **Implementing the Convolution and Pooling Layers.**"
      ],
      "metadata": {
        "id": "39Bhwyy1031e"
      }
    },
    {
      "cell_type": "code",
      "execution_count": null,
      "metadata": {
        "colab": {
          "base_uri": "https://localhost:8080/"
        },
        "id": "SgCOkId90y3L",
        "outputId": "5fe7df48-d6e7-4e57-c1f8-04622fd9225f"
      },
      "outputs": [
        {
          "output_type": "stream",
          "name": "stdout",
          "text": [
            "(10, 1, 28, 28)\n",
            "(1, 28, 28)\n",
            "(1, 28, 28)\n",
            "(28, 28)\n"
          ]
        }
      ],
      "source": [
        "import numpy as np\n",
        "\n",
        "x = np.random.rand(10, 1, 28, 28)\n",
        "print(x.shape)\n",
        "print(x[0].shape)\n",
        "print(x[1].shape)\n",
        "print(x[0,0].shape)"
      ]
    },
    {
      "cell_type": "markdown",
      "source": [
        "**Implementing a convolution layer**\n",
        "The im2col function considers 'filter size', 'stride', and 'padding' to develop the input data into a 2-dimentional array.\n",
        "\n"
      ],
      "metadata": {
        "id": "wO28UcNh6CFm"
      }
    },
    {
      "cell_type": "code",
      "source": [
        "import sys, os #Imports the sys and os modules, which are used for system-specific\n",
        "               #parameters and file path manipulation, respectively\n",
        "sys.path.append(os.pardir)#Appends the parent directory (os.pardir) to the Python system path (sys.path).\n",
        "from common.util import im2col\n",
        "\n",
        "x1 = np.random.rand(1, 3, 7, 7)\n",
        "col1 = im2col(x1, 5, 5, stride=1, pad=0)\n",
        "print(col1.shape)\n",
        "\n",
        "x2 = np.random.rand(10, 3, 7, 7)\n",
        "col2 = im2col(x2, 5, 5, stride=1, pad=0)\n",
        "print(col2.shape)"
      ],
      "metadata": {
        "id": "3NoLVlXq1mRl",
        "colab": {
          "base_uri": "https://localhost:8080/"
        },
        "outputId": "54ccb8c1-57ce-41d6-fe6e-d420314937cd"
      },
      "execution_count": 9,
      "outputs": [
        {
          "output_type": "stream",
          "name": "stdout",
          "text": [
            "(9, 75)\n",
            "(90, 75)\n"
          ]
        }
      ]
    },
    {
      "cell_type": "code",
      "source": [
        "class Convolution:\n",
        "#Initializes the convolutional layer with parameters such as the filter weights (W), biases (b), stride, and padding.\n",
        "  def __init__(self, W, b, stride=1, pad=0):\n",
        "    self.W = W\n",
        "    self.b = b\n",
        "    self.stride = stride\n",
        "    self.pad = pad\n",
        "\n",
        "  def forward(self, x):\n",
        "    FN, C, FH, FW = self.W.shape\n",
        "    N, C, H, W = x.shape\n",
        "    out_h = int(1+ (H + 2*self.pad - FH) / self.stride)\n",
        "    out_w = int(1+ (W + 2*self.pad - FW) / self.stride)\n",
        "    col = im2col(x, FH, FW, self.stride, self.pad)\n",
        "    col_W = self.W.reshape(FN, -1).T\n",
        "    out = np.dot(col, col_W) + self.b\n",
        "\n",
        "    out = out.reshape(N, out_h, out_w, -1).transpose(0, 3, 1, 2)\n",
        "\n",
        "    return out"
      ],
      "metadata": {
        "id": "XZU1uBO39Lbn"
      },
      "execution_count": 11,
      "outputs": []
    },
    {
      "cell_type": "code",
      "source": [
        "def col2im(col, input_shape, filter_h, filter_w, stride=1, pad=0):\n",
        "\n",
        "    N, C, H, W = input_shape\n",
        "    out_h = (H + 2*pad - filter_h)//stride + 1\n",
        "    out_w = (W + 2*pad - filter_w)//stride + 1\n",
        "    col =  col.reshape(N, out_h, out_w, C, filter_h, filter_w).transpose(0, 3, 4, 5, 1, 2)\n",
        "\n",
        "    img = np.zeros((N, C, H + 2*pad + stride - 1, W + 2*pad + stride - 1))\n",
        "    for y in range(filter_h):\n",
        "        y_max = y + stride*out_h\n",
        "        for x in range(filter_w):\n",
        "          x_max  =x + stride*out_w\n",
        "          img[:, :, y:y_max:stride, x:x_max:stride] += col[:,:, y, x, :,:]\n",
        "    return img[:, :, pad:H+ pad, padW + pad]"
      ],
      "metadata": {
        "id": "7jZl4ml8Buuc"
      },
      "execution_count": 13,
      "outputs": []
    },
    {
      "cell_type": "markdown",
      "source": [
        "**Python Implementation of the pooling layer.** The implementation of the pooling layer is carried out in three steps:\n",
        "*   Deploy the input data.\n",
        "*   Find the maximum value per row.\n",
        "*   Mold into the appropriate shape.\n",
        "\n",
        "\n",
        "\n",
        "\n",
        "\n",
        "\n"
      ],
      "metadata": {
        "id": "a0yMIXQTEleN"
      }
    },
    {
      "cell_type": "code",
      "source": [
        "class Pooling:\n",
        "  def __init__(self, pool_h, pool_w, stride=2, pad=0):\n",
        "    self.pool_h = pool_h\n",
        "    self.pool_w = pool_w\n",
        "    self.stride = stride\n",
        "    self.pad = pad\n",
        "    self.x = None\n",
        "    self.arg_max = None\n",
        "\n",
        "  def forward(self, x):\n",
        "    N, C, H, W = x.shape\n",
        "    out_h = int(1 + (H - self.pool_h) / self.stride)\n",
        "    out_w = int(1 + (W - self.pool_w) / self.stride)\n",
        "\n",
        "    col = im2col(x, self.pool_h, self.pool_w, self.stride, self.pad)\n",
        "    col = col.reshape(-1, self.pool_h*self.pool_w)\n",
        "\n",
        "    arg_max = np.argmax(col, axis=1)\n",
        "    out = np.max(col, axis=1)\n",
        "    out = out.reshape(N, out_h, out_w, C).transpose(0, 3, 1, 2)\n",
        "    self.x = x\n",
        "    self.arg_max = arg_max\n",
        "    return out\n",
        "\n",
        "  def backward(self, dout):\n",
        "    dout = dout.transpose(0, 2, 3, 1)\n",
        "\n",
        "    pool_size = self.pool_h * self.pool_w\n",
        "    dmax = np.zeros((dout.size, pool_size))\n",
        "    dmax[np.arange(self.arg_max.size), self.arg_max.flatten()] = dout.flatten()\n",
        "    dmax  = dmax.reshape(dout.shape + (pool_size,))\n",
        "    dcol = dmax.reshape(dmax.shape[0] * dmax.shape[1] * dmax.shape[2], -1)\n",
        "    dx = col2im(dcol, self.x.shape, self.pool_h, self.pool_w, self.stride, self.pad)\n",
        "    return dx"
      ],
      "metadata": {
        "id": "QS9H37Y3FYfa"
      },
      "execution_count": 15,
      "outputs": []
    },
    {
      "cell_type": "markdown",
      "source": [
        "Now that we have implmented a convolution layer and a pooling layer, let's combine them to build a CNN that recognizes handwritten numbers."
      ],
      "metadata": {
        "id": "QAvKkWnzJceM"
      }
    },
    {
      "cell_type": "code",
      "source": [
        "class SimpleConvNet:\n",
        "  def __init__(self, input_dim=(1, 28, 28), conv_param =\n",
        "                {'filter_num':30, 'filter_size':5, 'pad':0, 'stride': 1}, hidden_size=100,\n",
        "                output_size=10, weight_init_std=0.01):\n",
        "    filter_num = conv_param[ 'filter_num']\n",
        "    filter_size = conv_param[ 'filter size']\n",
        "    filter_pad = conv_param['pad']\n",
        "    filter_stride = conv.param['stride']\n",
        "\n",
        "    input_size = input_dim[1]\n",
        "    conv_output_size = (input_size - filter_size + 2*filter_pad) / filter_stride + 1\n",
        "    pool_output_size = int(filter_num*(conv_output_size/2)* (conv_output_size/2))\n",
        "\n",
        "#Next the following code intializes the weight parameters\n",
        "\n",
        "    self.params = {}\n",
        "    self.params['W1'] = weight_init_std * \\\n",
        "                    np.random.randn(filter_num, input_dim[8], filter_size, filter_size)\n",
        "    self.params['b1'] = np.zeros(filter_num)\n",
        "    self.params['W2'] = weight_init_std * \\\n",
        "                    np.random.randn(pool_output_size, hidden_size)\n",
        "    self.params['b2'] = np.zeros(hidden_size)\n",
        "    self.params['W3']= weight_init_std * \\\n",
        "                    np.random.randn(hidden_size, output_size)\n",
        "    self.params['b3'] = np.zeros(output_size)\n",
        "\n",
        "    self.layers = OrderedDict()\n",
        "    self.layers['Conv1'] = Convolution(self.params['W1'], self.params['b1'], conv_param['stride'], conv_param['pad'])\n",
        "    self.layers['Relul'] = Relu()\n",
        "    self.layers['Pooll'] = Pooling(pool_h=2, pool_w=2, stride=2)\n",
        "    self.layers[ 'Affine1'] = Affine(self.params['W2'], self.params['b2'])\n",
        "    self.layers['Relu2'] = Relu()\n",
        "    self.layers[ 'Affine2'] = Affine(self.params['W3'], self.params['b3'])\n",
        "\n",
        "    self.last_layer = SoftmaxWithLoss()\n",
        "\n",
        "    def predict(self, x):\n",
        "      for layer in self.layers.values():\n",
        "        x = layer.forward(x)\n",
        "    return x\n",
        "\n",
        "    def loss(self, x, t):\n",
        "      y = self.predict(x)\n",
        "    return self.last_layer.forward(y, t)\n",
        "\n",
        "    def gradient(self, x, t):\n",
        "        # forward\n",
        "        self.loss(x, t)\n",
        "\n",
        "        #backward\n",
        "        dout = 1\n",
        "        dout = self.last_layer.backward(dout)\n",
        "\n",
        "        layers = list(self.layers.values())\n",
        "        layers.reverse()\n",
        "\n",
        "        for layer in layers:\n",
        "          dout = layer.backward(dout)\n",
        "\n",
        "        #save\n",
        "        grads = {}\n",
        "        grads['W1'], grads['b1'] = self.layers['Conv1'].dW, self.layers['Conv1'].db\n",
        "        grads['W2'], grads['b2'] = self.layers['Affinel'].dW, self.layers['Affinel'].db\n",
        "        grads['W3'], grads['b3'] = self.layers['Affine1'].dW, self.layers['Affine1'].db\n",
        "\n",
        "        return grads"
      ],
      "metadata": {
        "id": "__qAJXNGJ2Y_"
      },
      "execution_count": 23,
      "outputs": []
    }
  ]
}