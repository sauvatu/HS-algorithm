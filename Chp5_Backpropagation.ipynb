{
  "nbformat": 4,
  "nbformat_minor": 0,
  "metadata": {
    "colab": {
      "provenance": [],
      "mount_file_id": "10v4hazK1HwOy3X4HUbWSKtfaHUsWjI8P",
      "authorship_tag": "ABX9TyNZNFy4YHyvnKUMPuZ7c707",
      "include_colab_link": true
    },
    "kernelspec": {
      "name": "python3",
      "display_name": "Python 3"
    },
    "language_info": {
      "name": "python"
    }
  },
  "cells": [
    {
      "cell_type": "markdown",
      "metadata": {
        "id": "view-in-github",
        "colab_type": "text"
      },
      "source": [
        "<a href=\"https://colab.research.google.com/github/sauvatu/HS-algorithm/blob/master/Chp5_Backpropagation.ipynb\" target=\"_parent\"><img src=\"https://colab.research.google.com/assets/colab-badge.svg\" alt=\"Open In Colab\"/></a>"
      ]
    },
    {
      "cell_type": "markdown",
      "source": [
        "# **Python Implementation of Multiplication and addition layers**"
      ],
      "metadata": {
        "id": "70syRzaswOdo"
      }
    },
    {
      "cell_type": "code",
      "execution_count": 22,
      "metadata": {
        "id": "VgvnuSRHv0-r"
      },
      "outputs": [],
      "source": [
        "class MulLayer:\n",
        "  def __init__(self):# Initialize variables to hold inputs\n",
        "    self.x = None\n",
        "    self.y = None\n",
        "  def forward(self, x, y): # Store inputs for later use in backward pass\n",
        "    self.x = x\n",
        "    self.y = y\n",
        "    out = x * y # Compute forward pass: multiply inputs\n",
        "    return out\n",
        "  def backward(self, dout):  # Compute gradients using the chain rule\n",
        "    dx = dout * self.y # Derivative of the forward pass w.r.t x\n",
        "    dy = dout * self.x # Derivative of the forward pass w.r.t y\n",
        "    return dx, dy"
      ]
    },
    {
      "cell_type": "code",
      "source": [
        "class AddLayer:\n",
        "  def _init__(self): # Constructor method, no initialization needed\n",
        "    pass\n",
        "  def forward(self, x, y):# Compute the forward pass: addition of inputs\n",
        "    out = x + y\n",
        "    return out\n",
        "  def backward(self, dout):# Compute gradients using the chain rule\n",
        "    dx = dout * 1 # Derivative of the forward pass w.r.t x\n",
        "    dy= dout * 1  # Derivative of the forward pass w.r.t y\n",
        "    return dx, dy"
      ],
      "metadata": {
        "id": "QU67PsQHxSlr"
      },
      "execution_count": 23,
      "outputs": []
    },
    {
      "cell_type": "markdown",
      "source": [
        "# **Python Implementation of the ReLU layer**"
      ],
      "metadata": {
        "id": "AKnKs6pixz7W"
      }
    },
    {
      "cell_type": "code",
      "source": [
        "class Relu:\n",
        "  def _init__(self):# Constructor method initializes mask to None\n",
        "    self.mask = None\n",
        "# Compute the forward pass: Rectified Linear Unit (ReLU) activation function\n",
        "  def forward(self, x):\n",
        "    self.mask = (x <= 0)# Create a mask to identify negative values\n",
        "    out = x.copy()# Make a copy of input array\n",
        "    out[self.mask] = 0 # Set negative values to 0\n",
        "    return out\n",
        "  def backward(self, dout): # Compute gradients using the chain rule\n",
        "    dout[self.mask] = 0 # Set gradients corresponding to negative values to 0\n",
        "    dx = dout # Output gradient is the same as input gradient for positive values\n",
        "    return dx"
      ],
      "metadata": {
        "id": "vLj2wYpixza4"
      },
      "execution_count": 24,
      "outputs": []
    },
    {
      "cell_type": "markdown",
      "source": [
        "# **Python Implementation of the Sigmoid Layer**"
      ],
      "metadata": {
        "id": "Osfv5JOvyrRU"
      }
    },
    {
      "cell_type": "code",
      "source": [
        "class Sigmoid:\n",
        "  def __init__(self):#Creating constructor and intializing it to none\n",
        "    self.out = None\n",
        "  def forward(self, x):# Compute the forward pass: Sigmoid activation function\n",
        "    out = sigmoid(x)# Invoking sigmoid function\n",
        "    self.out = out#Storing the output for later use\n",
        "    return out\n",
        "  def backward(self, dout):#Calculating gradient using the chain rule\n",
        "    dx = dout (1.0 - self.out) * self.out\n",
        "    return dx"
      ],
      "metadata": {
        "id": "_K6JHj5KyVGK"
      },
      "execution_count": 25,
      "outputs": []
    },
    {
      "cell_type": "markdown",
      "source": [
        "# **Python Implementation of Batch-Based Affine Layer**"
      ],
      "metadata": {
        "id": "XYJAxUgn0fTE"
      }
    },
    {
      "cell_type": "code",
      "source": [
        "import numpy as np\n",
        "\n",
        "class Affine:\n",
        "#Creating constructor and intializing parameters and variables\n",
        "  def __init__(self, W, b):\n",
        "    self.W =W #Weight Matrix\n",
        "    self.b = b#Bias Vector\n",
        "    self.x = None#Input Data\n",
        "    self.original_x_shape = None\n",
        "    self.dw = None #Gradient of Weight\n",
        "    self.db = None #Gradient of Bias\n",
        "# Compute the forward pass through the affine layer\n",
        "  def forward(self, x):\n",
        "    self.original_x_shape = x.shape\n",
        "    x = x.reshape(x.shape[0], -1)\n",
        "    self.x = x\n",
        "    out = np.dot(self.x, self.W) + self.b\n",
        "    return out\n",
        "# Compute gradients using the chain rule\n",
        "  def backward(self, dout):\n",
        "    dx = np.dot(dout, self.W.T)\n",
        "    self.dw = np.dot(self.x.T, dout)\n",
        "    self.db = np.sum(dout, axis=0)\n",
        "    dx = dx.reshape(*self.original_x_shape)\n",
        "    return dx"
      ],
      "metadata": {
        "id": "lzHYCbVWz17d"
      },
      "execution_count": 26,
      "outputs": []
    },
    {
      "cell_type": "markdown",
      "source": [
        "# **Python Implementation of the Softmax with Loss Layer**"
      ],
      "metadata": {
        "id": "OpwWAA5p0wSG"
      }
    },
    {
      "cell_type": "code",
      "source": [
        "import numpy as np\n",
        "\n",
        "class SoftmaxWithLoss:\n",
        "  def __init__(self):#Constructor method intializing variables.\n",
        "    self.loss = None #Loss Value\n",
        "    self.y = None #Predicated probabilities (Softmax Output)\n",
        "    self.t = None #Ground truth labels\n",
        "# Compute the forward pass: Softmax activation followed by cross-entropy loss\n",
        "  def forward(self, x, t):\n",
        "    self.t = t\n",
        "    self.y = softmax(x)# Compute softmax probabilities\n",
        "    self.loss = cross_entropy_error(self.y, self.t)# Compute cross-entropy loss\n",
        "    return self.loss\n",
        "# Compute gradients using the chain rule\n",
        "  def backward(self, dout=1):\n",
        "    batch_size = self.t.shape[0]\n",
        "    if self.t.size == self.y.size:\n",
        "      dx = (self.yself.t) / batch_size # Derivative of the forward pass w.r.t. input data\n",
        "    else:\n",
        "      dx = self.y.copy()\n",
        "      dx[np.arange(batch_size), self.t] -= 1\n",
        "      dx = dx/batch_size\n",
        "    return dx"
      ],
      "metadata": {
        "id": "66ZG1qAb05RM"
      },
      "execution_count": 33,
      "outputs": []
    },
    {
      "cell_type": "markdown",
      "source": [
        "# **Implementing a neural network with Backpropagation**"
      ],
      "metadata": {
        "id": "McU0Bpoq19ce"
      }
    },
    {
      "cell_type": "code",
      "source": [
        "# Import necessary modules\n",
        "import sys, os\n",
        "# Append parent directory to the system path\n",
        "sys.path.append(os.pardir)\n",
        "# Import required libraries\n",
        "import numpy as np\n",
        "from common.layers import *\n",
        "from common.gradient import numerical_gradient\n",
        "from collections import OrderedDict\n",
        "\n",
        "class TwoLayerNet:\n",
        "  def __init__(self, input_size, hidden_size, output_size, weight_init_std = 0.01):\n",
        "        # Initializing Weights\n",
        "        self.params = {}\n",
        "        self.params['W1'] = weight_init_std * np.random.randn(input_size, hidden_size)\n",
        "        self.params['b1'] = np.zeros(hidden_size)\n",
        "        self.params['W2'] = weight_init_std * np.random.randn(hidden_size, output_size)\n",
        "        self.params['b2'] = np.zeros(output_size)\n",
        "\n",
        "        # Generate Layers\n",
        "        self.layers = OrderedDict()\n",
        "        self.layers['Affine1'] = Affine(self.params['W1'], self.params['b1'])\n",
        "        self.layers['Relu1'] = Relu()\n",
        "        self.layers['Affine2'] = Affine(self.params['W2'], self.params['b2'])\n",
        "\n",
        "        self.lastLayer = SoftmaxWithLoss()\n",
        "\n",
        "  def predict(self, x):\n",
        "        for layer in self.layers.values():\n",
        "            x = layer.forward(x)\n",
        "\n",
        "        return x\n",
        "\n",
        "    # x:Input Data, t: Teacher Data\n",
        "  def loss(self, x, t):\n",
        "        y = self.predict(x)\n",
        "        return self.lastLayer.forward(y, t)\n",
        "\n",
        "  def accuracy(self, x, t):\n",
        "        y = self.predict(x)\n",
        "        y = np.argmax(y, axis=1)\n",
        "        if t.ndim != 1 : t = np.argmax(t, axis=1)\n",
        "\n",
        "        accuracy = np.sum(y == t) / float(x.shape[0])\n",
        "        return accuracy\n",
        "\n",
        "    # x:Input Data, t: Teacher Data\n",
        "  def numerical_gradient(self, x, t):\n",
        "        loss_W = lambda W: self.loss(x, t)\n",
        "\n",
        "        grads = {}\n",
        "        grads['W1'] = numerical_gradient(loss_W, self.params['W1'])\n",
        "        grads['b1'] = numerical_gradient(loss_W, self.params['b1'])\n",
        "        grads['W2'] = numerical_gradient(loss_W, self.params['W2'])\n",
        "        grads['b2'] = numerical_gradient(loss_W, self.params['b2'])\n",
        "\n",
        "        return grads\n",
        "\n",
        "  def gradient(self, x, t):\n",
        "        # forward\n",
        "        self.loss(x, t)\n",
        "\n",
        "        # backward\n",
        "        dout = 1\n",
        "        dout = self.lastLayer.backward(dout)\n",
        "\n",
        "        layers = list(self.layers.values())\n",
        "        layers.reverse()\n",
        "        for layer in layers:\n",
        "            dout = layer.backward(dout)\n",
        "\n",
        "        # Setting\n",
        "        grads = {}\n",
        "        grads['W1'], grads['b1'] = self.layers['Affine1'].dW, self.layers['Affine1'].db\n",
        "        grads['W2'], grads['b2'] = self.layers['Affine2'].dW, self.layers['Affine2'].db\n",
        "\n",
        "        return grads"
      ],
      "metadata": {
        "id": "EzW4_Esr2E8H"
      },
      "execution_count": 28,
      "outputs": []
    },
    {
      "cell_type": "markdown",
      "source": [
        "# **Verifying the slope obtained by Backpropagation**"
      ],
      "metadata": {
        "id": "6ElvmYA16U0r"
      }
    },
    {
      "cell_type": "code",
      "source": [
        "# Import necessary modules\n",
        "import sys, os\n",
        "sys.path.append(os.pardir)# Append parent directory to the system path\n",
        "# Import required libraries\n",
        "import numpy as np\n",
        "# Import load_mnist function from dataset.mnist module\n",
        "from dataset.mnist import load_mnist\n",
        "# Import TwoLayerNet class from common.two_layer_net module\n",
        "from common.two_layer_net import TwoLayerNet\n",
        "\n",
        "# Load the MNIST dataset and preprocess it\n",
        "(x_train, t_train), (x_test, t_test) = load_mnist(normalize = True, one_hot_label=True)\n",
        "# Create an instance of the TwoLayerNet class with specified input, hidden, and output sizes\n",
        "network = TwoLayerNet(input_size=784, hidden_size=50, output_size=10)\n",
        "# Select a small batch of training data for gradient computation\n",
        "x_batch = x_train[:3]\n",
        "t_batch = t_train[:3]\n",
        "\n",
        "# Compute gradients using numerical differentiation and backpropagation\n",
        "grad_numerical = network.numerical_gradient(x_batch, t_batch)# Numerical gradients\n",
        "grad_backprop = network.gradient(x_batch, t_batch)# Gradients computed using backpropagation\n",
        "\n",
        "# Compare the gradients computed by both methods\n",
        "for key in grad_numerical.keys():\n",
        "# Compute the absolute difference between numerical and backpropagated gradients\n",
        "  diff = np.average(np.abs(grad_backprop[key] - grad_numerical [key]))\n",
        "  print(key + \":\" + str(diff))"
      ],
      "metadata": {
        "colab": {
          "base_uri": "https://localhost:8080/"
        },
        "id": "r2DKq0gj6eV2",
        "outputId": "433b07ff-6207-44a3-ccf9-5ec50872c624"
      },
      "execution_count": 34,
      "outputs": [
        {
          "output_type": "stream",
          "name": "stdout",
          "text": [
            "W1:2.0233361544731985e-10\n",
            "b1:1.0308814243925211e-09\n",
            "W2:7.203301550350039e-08\n",
            "b2:1.4366163690188173e-07\n"
          ]
        }
      ]
    },
    {
      "cell_type": "markdown",
      "source": [
        "# **Implementing Learning Using Backpropagation**"
      ],
      "metadata": {
        "id": "6zVolTGjCE8N"
      }
    },
    {
      "cell_type": "code",
      "source": [
        "#import necessary modules\n",
        "import sys, os\n",
        "sys.path.append(os.pardir)# Append parent directory to the system path\n",
        "# Import required libraries\n",
        "import numpy as np\n",
        "from dataset.mnist import load_mnist\n",
        "from common.two_layer_net import TwoLayerNet\n",
        "\n",
        "#Loading Data\n",
        "(x_train, t_train), (x_test, t_test) = load_mnist(normalize=True, one_hot_label=True)\n",
        "\n",
        "network = TwoLayerNet(input_size=784, hidden_size=50, output_size=10)\n",
        "# Set up hyperparameters\n",
        "iters_num = 10000 # Number of iterations for training\n",
        "train_size = x_train.shape[0]# Size of the training dataset\n",
        "batch_size = 100 # Batch size for stochastic gradient descent\n",
        "learning_rate = 0.1 # Learning rate for updating parameters\n",
        "\n",
        "train_loss_list = []\n",
        "train_acc_list = []\n",
        "test_acc_list = []\n",
        "\n",
        "# Calculate the number of iterations per epoch\n",
        "iter_per_epoch = max(train_size, batch_size, 1)\n",
        "\n",
        "# Main training loop\n",
        "for i in range(iters_num):\n",
        "# Create a random batch of training data\n",
        "  batch_mask = np.random.choice(train_size, batch_size)\n",
        "  x_batch = x_train [batch_mask]\n",
        "  t_batch =  t_train [batch_mask]\n",
        "  grad =  network.gradient(x_batch, t_batch)\n",
        "\n",
        "# Compute gradients and update parameters using stochastic gradient descent\n",
        "  for key in ('W1', 'b1', 'W2', 'b2'):\n",
        "      network.params[key] -= learning_rate * grad[key]\n",
        "# Compute training loss and store it\n",
        "  loss = network.loss(x_batch, t_batch)\n",
        "  train_loss_list.append(loss)\n",
        "\n",
        "# Calculate and store training and test accuracy at the end of each epoch\n",
        "  if i % iter_per_epoch == 0:\n",
        "    train_acc = network.accuracy(x_train, t_train)\n",
        "    test_acc = network.accuracy(x_test, t_test)\n",
        "    train_acc_list.append(train_acc)\n",
        "    test_acc_list.append(test_acc)\n",
        "# Print training and test accuracy\n",
        "    print('Printing the training and test accuracy: =', + train_acc, test_acc)"
      ],
      "metadata": {
        "id": "Adzh1pEKCMcl",
        "colab": {
          "base_uri": "https://localhost:8080/"
        },
        "outputId": "a142829f-d0a7-4831-8946-df1d2b9b3173"
      },
      "execution_count": 37,
      "outputs": [
        {
          "output_type": "stream",
          "name": "stdout",
          "text": [
            "Printing the training and test accuracy: = 0.10441666666666667 0.1028\n"
          ]
        }
      ]
    }
  ]
}